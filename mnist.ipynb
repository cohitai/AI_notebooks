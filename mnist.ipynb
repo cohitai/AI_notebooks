{
 "cells": [
  {
   "cell_type": "markdown",
   "id": "113edbf8",
   "metadata": {},
   "source": [
    "# mnist with ANE"
   ]
  },
  {
   "cell_type": "code",
   "execution_count": 63,
   "id": "c2b4e385-dd9d-4004-bd81-ec5d7d19c636",
   "metadata": {},
   "outputs": [
    {
     "name": "stdout",
     "output_type": "stream",
     "text": [
      "%pylab is deprecated, use %matplotlib inline and import the required libraries.\n",
      "Populating the interactive namespace from numpy and matplotlib\n"
     ]
    },
    {
     "data": {
      "text/plain": [
       "'/Users/itaicohen/AI_notebooks'"
      ]
     },
     "execution_count": 63,
     "metadata": {},
     "output_type": "execute_result"
    }
   ],
   "source": [
    "import torch\n",
    "import numpy as np\n",
    "import os\n",
    "from tqdm import trange\n",
    "import torch\n",
    "import torch.nn as nn\n",
    "\n",
    "%matplotlib inline\n",
    "%pylab inline\n",
    "\n",
    "#intepreter: $ source /Users/itaicohen/tinygrad/venv/bin/activate\n",
    "os.getcwd()"
   ]
  },
  {
   "cell_type": "code",
   "execution_count": 64,
   "id": "44ef95f5-60a9-4e4a-aaba-a2c46fc09622",
   "metadata": {},
   "outputs": [],
   "source": [
    "# GPU on MAC\n",
    "if torch.has_mps:\n",
    "    device = torch.device(\"mps\")\n",
    "else:\n",
    "    device = torch.device(\"cpu\")"
   ]
  },
  {
   "cell_type": "code",
   "execution_count": 65,
   "id": "e23bef27-e22c-47d5-9109-7e4cac609886",
   "metadata": {},
   "outputs": [],
   "source": [
    "baseurl=\"http://yann.lecun.com/exdb/mnist/\"\n",
    "url1=os.path.join(baseurl,\"train-images-idx3-ubyte.gz\")\n",
    "url2=os.path.join(baseurl,\"train-labels-idx1-ubyte.gz\")\n",
    "url3=os.path.join(baseurl,\"t10k-images-idx3-ubyte.gz\")\n",
    "url4=os.path.join(baseurl,\"t10k-labels-idx1-ubyte.gz\")"
   ]
  },
  {
   "cell_type": "code",
   "execution_count": 66,
   "id": "09a3e033-b534-4a19-8851-0e44ddcbdbfd",
   "metadata": {},
   "outputs": [],
   "source": [
    "def fetch(url):\n",
    "    import requests, gzip,os,hashlib\n",
    "    fp=os.path.join(\"/Users/itaicohen/projects/misc/tmp\",hashlib.md5(url.encode(\"utf-8\")).hexdigest())\n",
    "    if os.path.isfile(fp):\n",
    "        with open(fp,\"rb\") as f:\n",
    "            dat = f.read()\n",
    "    else:\n",
    "        with open(fp,\"wb\") as f:\n",
    "            dat=requests.get(url).content\n",
    "            f.write(dat)\n",
    "    return np.frombuffer(gzip.decompress(dat),dtype=np.uint8)\n",
    "    \n",
    "    "
   ]
  },
  {
   "cell_type": "code",
   "execution_count": 67,
   "id": "04d3b56a-f1c2-42f1-9a01-d88be7f011bf",
   "metadata": {},
   "outputs": [],
   "source": [
    "X_train=fetch(url1)[0x10:].reshape((-1,28,28))\n",
    "Y_train=fetch(url2)[8:]\n",
    "X_test=fetch(url3)[0x10:].reshape((-1,28,28))\n",
    "Y_test=fetch(url4)[8:]"
   ]
  },
  {
   "cell_type": "code",
   "execution_count": 68,
   "id": "c4b6170a",
   "metadata": {},
   "outputs": [
    {
     "data": {
      "text/plain": [
       "numpy.ndarray"
      ]
     },
     "execution_count": 68,
     "metadata": {},
     "output_type": "execute_result"
    }
   ],
   "source": [
    "type(X_train)"
   ]
  },
  {
   "cell_type": "code",
   "execution_count": 69,
   "id": "fe49b6f3-e40f-4da5-9b39-7b7dc6a72e5d",
   "metadata": {},
   "outputs": [
    {
     "data": {
      "text/plain": [
       "(<matplotlib.image.AxesImage at 0x15671c6d0>, 5)"
      ]
     },
     "execution_count": 69,
     "metadata": {},
     "output_type": "execute_result"
    },
    {
     "data": {
      "image/png": "[encoded data removed]",
      "text/plain": [
       "<Figure size 432x288 with 1 Axes>"
      ]
     },
     "metadata": {
      "needs_background": "light"
     },
     "output_type": "display_data"
    }
   ],
   "source": [
    "imshow(X_train[0]), Y_train[0]"
   ]
  },
  {
   "cell_type": "code",
   "execution_count": 70,
   "id": "d1195c54",
   "metadata": {},
   "outputs": [
    {
     "data": {
      "text/plain": [
       "tensor([[  0,   0,   0,   0,   0,   0,   0,   0,   0,   0,   0,   0,   0,   0,\n",
       "           0,   0,   0,   0,   0,   0,   0,   0,   0,   0,   0,   0,   0,   0],\n",
       "        [  0,   0,   0,   0,   0,   0,   0,   0,   0,   0,   0,   0,   0,   0,\n",
       "           0,   0,   0,   0,   0,   0,   0,   0,   0,   0,   0,   0,   0,   0],\n",
       "        [  0,   0,   0,   0,   0,   0,   0,   0,   0,   0,   0,   0,   0,   0,\n",
       "           0,   0,   0,   0,   0,   0,   0,   0,   0,   0,   0,   0,   0,   0],\n",
       "        [  0,   0,   0,   0,   0,   0,   0,   0,   0,   0,   0,   0,   0,   0,\n",
       "           0,   0,   0,   0,   0,   0,   0,   0,   0,   0,   0,   0,   0,   0],\n",
       "        [  0,   0,   0,   0,   0,   0,   0,   0,   0,   0,   0,   0,   0,   0,\n",
       "           0,   0,   0,   0,   0,   0,   0,   0,   0,   0,   0,   0,   0,   0],\n",
       "        [  0,   0,   0,   0,   0,   0,   0,   0,   0,   0,   0,   0,   0,   0,\n",
       "           0,   0,   0,   0,   0,   0,   0,   0,   0,   0,   0,   0,   0,   0],\n",
       "        [  0,   0,   0,   0,   0,   0,   0,   0,   0,   0,   0,   0,   0,   0,\n",
       "           0,   0,   0,  59, 103, 186, 255, 253,  57,   0,   0,   0,   0,   0],\n",
       "        [  0,   0,   0,   0,   0,   0,   0,   0,   0,   0,   0,   0,   0,  21,\n",
       "          48, 130, 221, 251, 254, 254, 254, 254,  91,   0,   0,   0,   0,   0],\n",
       "        [  0,   0,   0,   0,   0,   0,   0,   0,  91,  92,  92, 147, 187, 234,\n",
       "         254, 254, 254, 254, 181, 223, 254, 254,  91,   0,   0,   0,   0,   0],\n",
       "        [  0,   0,   0,   0,   0,   0,   0,  56, 252, 254, 254, 254, 254, 254,\n",
       "         254, 254, 236,  55,   1, 168, 254, 190,   2,   0,   0,   0,   0,   0],\n",
       "        [  0,   0,   0,   0,   0,   0,   0,  14, 250, 254, 254, 239, 222, 133,\n",
       "         133,  56,  27,   0,  14, 208, 254, 108,   0,   0,   0,   0,   0,   0],\n",
       "        [  0,   0,   0,   0,   0,   0,   0,   0,  71,  72,  72,  30,   0,   0,\n",
       "           0,   0,   0,   0, 175, 254, 193,  16,   0,   0,   0,   0,   0,   0],\n",
       "        [  0,   0,   0,   0,   0,   0,   0,   0,   0,   0,   0,   0,   0,   0,\n",
       "           0,   0,   0, 119, 252, 254, 100,   0,   0,   0,   0,   0,   0,   0],\n",
       "        [  0,   0,   0,   0,   0,   0,   0,   0,   0,   0,   0,   0,   0,   0,\n",
       "           0,   0,  43, 244, 254, 150,   4,   0,   0,   0,   0,   0,   0,   0],\n",
       "        [  0,   0,   0,   0,   0,   0,   0,   0,   0,   0,   0,   0,   0,   0,\n",
       "           0,  11, 229, 254, 216,  26,   0,   0,   0,   0,   0,   0,   0,   0],\n",
       "        [  0,   0,   0,   0,   0,   0,   0,   0,   0,   0,   0,   0,   0,   0,\n",
       "          10, 169, 254, 245,  48,   0,   0,   0,   0,   0,   0,   0,   0,   0],\n",
       "        [  0,   0,   0,   0,   0,   0,   0,   0,   0,   0,   0,   0,   0,   5,\n",
       "          97, 254, 254, 127,   0,   0,   0,   0,   0,   0,   0,   0,   0,   0],\n",
       "        [  0,   0,   0,   0,   0,   0,   0,   0,   0,   0,   0,   0,   0, 111,\n",
       "         254, 254, 172,   6,   0,   0,   0,   0,   0,   0,   0,   0,   0,   0],\n",
       "        [  0,   0,   0,   0,   0,   0,   0,   0,   0,   0,   0,   0,  71, 248,\n",
       "         254, 224,   6,   0,   0,   0,   0,   0,   0,   0,   0,   0,   0,   0],\n",
       "        [  0,   0,   0,   0,   0,   0,   0,   0,   0,   0,   0,  26, 209, 254,\n",
       "         233,  48,   0,   0,   0,   0,   0,   0,   0,   0,   0,   0,   0,   0],\n",
       "        [  0,   0,   0,   0,   0,   0,   0,   0,   0,   0,   0, 212, 254, 254,\n",
       "         115,   0,   0,   0,   0,   0,   0,   0,   0,   0,   0,   0,   0,   0],\n",
       "        [  0,   0,   0,   0,   0,   0,   0,   0,   0,   0, 129, 253, 254, 179,\n",
       "           2,   0,   0,   0,   0,   0,   0,   0,   0,   0,   0,   0,   0,   0],\n",
       "        [  0,   0,   0,   0,   0,   0,   0,   0,   0, 168, 238, 254, 254, 173,\n",
       "           4,   0,   0,   0,   0,   0,   0,   0,   0,   0,   0,   0,   0,   0],\n",
       "        [  0,   0,   0,   0,   0,   0,   0,   0,   0, 216, 254, 254, 254, 254,\n",
       "         154,   0,   0,   0,   0,   0,   0,   0,   0,   0,   0,   0,   0,   0],\n",
       "        [  0,   0,   0,   0,   0,   0,   0,   0,   0, 216, 254, 254, 238, 122,\n",
       "           2,   0,   0,   0,   0,   0,   0,   0,   0,   0,   0,   0,   0,   0],\n",
       "        [  0,   0,   0,   0,   0,   0,   0,   0,   0, 180, 254, 197,  50,   0,\n",
       "           0,   0,   0,   0,   0,   0,   0,   0,   0,   0,   0,   0,   0,   0],\n",
       "        [  0,   0,   0,   0,   0,   0,   0,   0,   0,   0,   0,   0,   0,   0,\n",
       "           0,   0,   0,   0,   0,   0,   0,   0,   0,   0,   0,   0,   0,   0],\n",
       "        [  0,   0,   0,   0,   0,   0,   0,   0,   0,   0,   0,   0,   0,   0,\n",
       "           0,   0,   0,   0,   0,   0,   0,   0,   0,   0,   0,   0,   0,   0]],\n",
       "       dtype=torch.uint8)"
      ]
     },
     "execution_count": 70,
     "metadata": {},
     "output_type": "execute_result"
    }
   ],
   "source": [
    "#Dataloader\n",
    "from torch.utils.data import DataLoader, Dataset\n",
    "a=iter(DataLoader(X_train, shuffle=True, batch_size=32))\n",
    "next(a)[0]"
   ]
  },
  {
   "cell_type": "markdown",
   "id": "07451220-4e86-487f-92dc-8808c9c4bb9d",
   "metadata": {},
   "source": [
    "## MNIST with Torch"
   ]
  },
  {
   "cell_type": "code",
   "execution_count": 71,
   "id": "8352ed45-b705-4601-beff-430c7cd52301",
   "metadata": {},
   "outputs": [],
   "source": [
    "class BNet(torch.nn.Module):\n",
    "    def __init__(self):\n",
    "        super(BNet,self).__init__()\n",
    "        self.l1=nn.Linear(784,128)\n",
    "        self.act=nn.ReLU()\n",
    "        self.l2=nn.Linear(128,10)\n",
    "    def forward(self,x):\n",
    "        x=self.l1(x)\n",
    "        x=self.act(x)\n",
    "        x=self.l2(x)\n",
    "        return x"
   ]
  },
  {
   "cell_type": "code",
   "execution_count": 72,
   "id": "eb340418-74e5-4d64-83fc-e8a057c94b97",
   "metadata": {},
   "outputs": [],
   "source": [
    "#set model and optimizer\n",
    "model = BNet().to(device)\n",
    "loss_function=nn.CrossEntropyLoss()\n",
    "optimizer= torch.optim.Adam(model.parameters()) \n",
    "optimizer_sgd=torch.optim.SGD(model.parameters(),lr=0.001,momentum=0.0005)\n",
    "optim=optimizer_sgd\n",
    "BS=32\n",
    "ITER_NUM=2000"
   ]
  },
  {
   "cell_type": "code",
   "execution_count": 73,
   "id": "6fff334d-35ee-4b48-a557-a6cba8290cea",
   "metadata": {},
   "outputs": [
    {
     "name": "stderr",
     "output_type": "stream",
     "text": [
      "loss 0.23 accuraccy 0.91: 100%|███████████████████████████████████████████████████████████████████████████████████████████████████████████████████████████████████████████████████████████| 2000/2000 [00:07<00:00, 270.72it/s]\n"
     ]
    },
    {
     "data": {
      "text/plain": [
       "[<matplotlib.lines.Line2D at 0x156f84280>]"
      ]
     },
     "execution_count": 73,
     "metadata": {},
     "output_type": "execute_result"
    },
    {
     "data": {
      "image/png": "[encoded data removed]",
      "text/plain": [
       "<Figure size 432x288 with 1 Axes>"
      ]
     },
     "metadata": {
      "needs_background": "light"
     },
     "output_type": "display_data"
    }
   ],
   "source": [
    "losses,accuracies=[],[]\n",
    "for i in (t := trange(ITER_NUM)):\n",
    "    samp= np.random.randint(0,X_train.shape[0],size=(BS))\n",
    "    X=torch.tensor(X_train[samp].reshape((-1,28*28))).float()\n",
    "    Y=torch.tensor(Y_train[samp])\n",
    "    X=X.to(device)\n",
    "    Y=Y.to(device)\n",
    "    optim.zero_grad() #clears old gradients from the last step.\n",
    "    out=model(X)\n",
    "    cat=torch.argmax(out,dim=1)\n",
    "    accuracy= (cat.cpu()==Y.cpu()).float().mean()\n",
    "    loss=loss_function(out,Y)\n",
    "    loss.backward() #Computes the gradient of current tensor w.r.t. graph leaves\n",
    "    optim.step() #causes the optimizer to take a step based on the gradients of the parameters.\n",
    "    loss,accuracy= loss.item(),accuracy.item()\n",
    "    losses.append(loss)\n",
    "    accuracies.append(accuracy)\n",
    "    t.set_description(\"loss %.2f accuraccy %.2f\" % (loss,accuracy))\n",
    "plt.ylim(-.2,1.2)  \n",
    "plot(losses)\n",
    "plot(accuracies)"
   ]
  },
  {
   "cell_type": "code",
   "execution_count": 74,
   "id": "71446caf-461c-430e-91bc-63715a89dd4d",
   "metadata": {},
   "outputs": [
    {
     "data": {
      "text/plain": [
       "0.9384"
      ]
     },
     "execution_count": 74,
     "metadata": {},
     "output_type": "execute_result"
    }
   ],
   "source": [
    "# evaluation \n",
    "Y_test_preds=torch.argmax(model(torch.tensor(X_test.reshape((-1,28*28))).float().to(device)),dim=1).cpu().numpy()\n",
    "Y_test_accuracy= (Y_test_preds == Y_test).mean()\n",
    "Y_test_accuracy"
   ]
  },
  {
   "cell_type": "code",
   "execution_count": 75,
   "id": "0353617d-062a-4812-a982-e8b0f1228476",
   "metadata": {},
   "outputs": [
    {
     "data": {
      "text/plain": [
       "<matplotlib.image.AxesImage at 0x157faa5b0>"
      ]
     },
     "execution_count": 75,
     "metadata": {},
     "output_type": "execute_result"
    },
    {
     "data": {
      "image/png": "[encoded data removed]",
      "text/plain": [
       "<Figure size 432x288 with 1 Axes>"
      ]
     },
     "metadata": {
      "needs_background": "light"
     },
     "output_type": "display_data"
    },
    {
     "data": {
      "image/png": "[encoded data removed]",
      "text/plain": [
       "<Figure size 432x288 with 1 Axes>"
      ]
     },
     "metadata": {
      "needs_background": "light"
     },
     "output_type": "display_data"
    }
   ],
   "source": [
    "# compute gradient in torch\n",
    "samp=[0,1,20,3]\n",
    "model.zero_grad()\n",
    "out = model(torch.tensor(X_test[samp].reshape((-1,28**2))).float().to(device))\n",
    "out.retain_grad()\n",
    "loss=loss_function(out,torch.tensor(Y_test[samp]).long().to(device)).mean()\n",
    "loss.retain_grad()\n",
    "loss.backward()\n",
    "imshow(model.l1.weight.grad.cpu())\n",
    "figure()\n",
    "imshow(model.l2.weight.grad.cpu())\n",
    "\n"
   ]
  },
  {
   "cell_type": "code",
   "execution_count": 76,
   "id": "25de4c7b-5399-4746-8bef-ce44babef34a",
   "metadata": {},
   "outputs": [],
   "source": [
    "### init the network ###\n",
    "\n",
    "l1=np.zeros((784,128),dtype=np.float32)\n",
    "l2=np.zeros((128,10),dtype=np.float32)\n",
    "\n",
    "l1[:]=model.l1.weight.detach().cpu().numpy().T\n",
    "l2[:]=model.l2.weight.detach().cpu().numpy().T"
   ]
  },
  {
   "cell_type": "code",
   "execution_count": 77,
   "id": "f4cdfb4c-f99b-4951-af74-9fc23c002f80",
   "metadata": {},
   "outputs": [
    {
     "data": {
      "text/plain": [
       "(10000, 128)"
      ]
     },
     "execution_count": 77,
     "metadata": {},
     "output_type": "execute_result"
    }
   ],
   "source": [
    "X_test.reshape((-1,28*28)).dot(l1).shape"
   ]
  },
  {
   "cell_type": "code",
   "execution_count": 78,
   "id": "48a324f9-6b54-4a18-bdfb-4f2921947eb0",
   "metadata": {},
   "outputs": [
    {
     "data": {
      "text/plain": [
       "0.9384"
      ]
     },
     "execution_count": 78,
     "metadata": {},
     "output_type": "execute_result"
    }
   ],
   "source": [
    "### forward path ###\n",
    "\n",
    "def forward(x):\n",
    "    #print(x.shape)\n",
    "    x=x.dot(l1)\n",
    "    #print(x.shape)\n",
    "    x=np.maximum(0,x)\n",
    "    #print(x.shape)\n",
    "    x=x.dot(l2)\n",
    "    #print(x.shape)\n",
    "    return x\n",
    "\n",
    "def numpy_eval():\n",
    "    global Y_test_preds_out\n",
    "    Y_test_preds_out = forward(X_test.reshape((-1, 28*28)))\n",
    "    Y_test_preds = np.argmax(Y_test_preds_out, axis=1)\n",
    "    return (Y_test == Y_test_preds).mean()\n",
    "\n",
    "numpy_eval()"
   ]
  },
  {
   "cell_type": "code",
   "execution_count": 79,
   "id": "ac8685ab-7a43-4bb4-bbdd-02f970b09e33",
   "metadata": {},
   "outputs": [
    {
     "data": {
      "text/plain": [
       "<matplotlib.image.AxesImage at 0x1568b5c40>"
      ]
     },
     "execution_count": 79,
     "metadata": {},
     "output_type": "execute_result"
    },
    {
     "data": {
      "image/png": "[encoded data removed]",
      "text/plain": [
       "<Figure size 432x288 with 1 Axes>"
      ]
     },
     "metadata": {
      "needs_background": "light"
     },
     "output_type": "display_data"
    },
    {
     "data": {
      "image/png": "[encoded data removed]",
      "text/plain": [
       "<Figure size 432x288 with 1 Axes>"
      ]
     },
     "metadata": {
      "needs_background": "light"
     },
     "output_type": "display_data"
    }
   ],
   "source": [
    "# numpy forward and backward path\n",
    "def logsumexp(x):\n",
    "    c=x.max(axis=1)\n",
    "    return c+np.log(np.exp(x-c.reshape((-1,1))).sum(axis=1))\n",
    "    \n",
    "def forward_backward(x, y):\n",
    "    # training\n",
    "    out = np.zeros((len(y),10), np.float32)\n",
    "    out[range(out.shape[0]),y] = 1\n",
    "\n",
    "    # forward pass\n",
    "    x_l1 = x.dot(l1)\n",
    "    x_relu = np.maximum(x_l1, 0)\n",
    "    x_l2 = x_relu.dot(l2)\n",
    "    x_lsm = x_l2 - logsumexp(x_l2).reshape((-1, 1))\n",
    "    x_loss = (-out * x_lsm).mean(axis=1)\n",
    "\n",
    "    # training in numpy (super hard!)\n",
    "    # backward pass\n",
    "\n",
    "    # will involve x_lsm, x_l2, out, d_out and produce dx_sm\n",
    "    d_out = -out / len(y)\n",
    "\n",
    "    # derivative of logsoftmax\n",
    "    # https://github.com/torch/nn/blob/master/lib/THNN/generic/LogSoftMax.c\n",
    "    dx_lsm = d_out - np.exp(x_lsm)*d_out.sum(axis=1).reshape((-1, 1))\n",
    "\n",
    "    # derivative of l2\n",
    "    d_l2 = x_relu.T.dot(dx_lsm)\n",
    "    dx_relu = dx_lsm.dot(l2.T)\n",
    "\n",
    "    # derivative of relu\n",
    "    dx_l1 = (x_relu > 0).astype(np.float32) * dx_relu\n",
    "\n",
    "    # derivative of l1\n",
    "    d_l1 = x.T.dot(dx_l1)\n",
    "  \n",
    "    return x_loss, x_l2, d_l1, d_l2\n",
    "\n",
    "samp = [0,1,2,3]\n",
    "x_loss, x_l2, d_l1, d_l2 = forward_backward(X_test[samp].reshape((-1, 28*28)), Y_test[samp])\n",
    "\n",
    "imshow(d_l1.T)\n",
    "figure()\n",
    "imshow(d_l2.T)\n",
    "\n",
    "\n",
    "\n"
   ]
  },
  {
   "cell_type": "code",
   "execution_count": 80,
   "id": "895f8bd1-1651-4149-a0ec-00a764e5ddf5",
   "metadata": {},
   "outputs": [
    {
     "name": "stderr",
     "output_type": "stream",
     "text": [
      "loss 0.01 accuracy 0.98: 100%|████████████████████████████████████████████████████████████████████████████████████████████████████████████████████████████████████████████████████████████| 1000/1000 [00:09<00:00, 105.76it/s]\n"
     ]
    },
    {
     "data": {
      "text/plain": [
       "[<matplotlib.lines.Line2D at 0x1569338b0>]"
      ]
     },
     "execution_count": 80,
     "metadata": {},
     "output_type": "execute_result"
    },
    {
     "data": {
      "image/png": "[encoded data removed]",
      "text/plain": [
       "<Figure size 432x288 with 1 Axes>"
      ]
     },
     "metadata": {
      "needs_background": "light"
     },
     "output_type": "display_data"
    }
   ],
   "source": [
    "# numpy training\n",
    "def layer_init(m, h):\n",
    "    # gaussian is strong\n",
    "    #ret = np.random.randn(m,h)/np.sqrt(m*h)\n",
    "    # uniform is stronger\n",
    "    ret = np.random.uniform(-1., 1., size=(m,h))/np.sqrt(m*h)\n",
    "    return ret.astype(np.float32)\n",
    "\n",
    "# reinit\n",
    "np.random.seed(1337)\n",
    "l1 = layer_init(784, 128)\n",
    "l2 = layer_init(128, 10)\n",
    "\n",
    "lr = 0.001\n",
    "BS = 128\n",
    "losses, accuracies = [], []\n",
    "for i in (t := trange(1000)):\n",
    "    samp = np.random.randint(0, X_train.shape[0], size=(BS))\n",
    "    X = X_train[samp].reshape((-1, 28*28))\n",
    "    Y = Y_train[samp]\n",
    "    x_loss, x_l2, d_l1, d_l2 = forward_backward(X, Y)\n",
    "  \n",
    "    cat = np.argmax(x_l2, axis=1)\n",
    "    accuracy = (cat == Y).mean()\n",
    "  \n",
    "    # SGD\n",
    "    l1 = l1 - lr*d_l1\n",
    "    l2 = l2 - lr*d_l2\n",
    "  \n",
    "    loss = x_loss.mean()\n",
    "    losses.append(loss)\n",
    "    accuracies.append(accuracy)\n",
    "    t.set_description(\"loss %.2f accuracy %.2f\" % (loss, accuracy))\n",
    "  \n",
    "plt.ylim(-0.1, 1.1)\n",
    "plot(losses)\n",
    "plot(accuracies)\n"
   ]
  },
  {
   "cell_type": "code",
   "execution_count": 81,
   "id": "4f09cb3d-cd53-40f1-aa31-2e04eeff90f7",
   "metadata": {},
   "outputs": [
    {
     "data": {
      "text/plain": [
       "0.9639"
      ]
     },
     "execution_count": 81,
     "metadata": {},
     "output_type": "execute_result"
    }
   ],
   "source": [
    "numpy_eval()"
   ]
  },
  {
   "cell_type": "code",
   "execution_count": 82,
   "id": "018434b4-0449-4a72-b918-30acf34616c4",
   "metadata": {},
   "outputs": [
    {
     "data": {
      "text/plain": [
       "<matplotlib.image.AxesImage at 0x15698b550>"
      ]
     },
     "execution_count": 82,
     "metadata": {},
     "output_type": "execute_result"
    },
    {
     "data": {
      "image/png": "[encoded data removed]",
      "text/plain": [
       "<Figure size 432x288 with 1 Axes>"
      ]
     },
     "metadata": {
      "needs_background": "light"
     },
     "output_type": "display_data"
    }
   ],
   "source": [
    "# for fun, can it recognize 4?\n",
    "m = [[0,0,0,0,0,0,0],\n",
    "     [0,0,1,0,1,0,0],\n",
    "     [0,0,1,0,1,0,0],\n",
    "     [0,0,1,1,1,1,0],\n",
    "     [0,0,0,0,1,0,0],\n",
    "     [0,0,0,0,1,0,0],\n",
    "     [0,0,0,0,0,0,0]]\n",
    "# upscale to 28x28\n",
    "m = np.concatenate([np.concatenate([[x]*4 for x in y]*4) for y in m])\n",
    "imshow(m.reshape(28,28))"
   ]
  },
  {
   "cell_type": "code",
   "execution_count": 83,
   "id": "ec1a7b87-cc6b-4f8d-9631-d322f3e60a98",
   "metadata": {},
   "outputs": [
    {
     "data": {
      "text/plain": [
       "4"
      ]
     },
     "execution_count": 83,
     "metadata": {},
     "output_type": "execute_result"
    }
   ],
   "source": [
    "# what is it?\n",
    "x = m.reshape(1, -1).dot(l1)\n",
    "x = np.maximum(x, 0)\n",
    "x = x.dot(l2)\n",
    "np.argmax(x)"
   ]
  },
  {
   "cell_type": "code",
   "execution_count": 89,
   "id": "72e6edc9-17b9-4c73-a2d8-433387c1f212",
   "metadata": {},
   "outputs": [],
   "source": [
    "ret= -Y_test_preds_out[range(Y_test_preds_out[:].shape[0]),Y_test] + np.log(np.exp(Y_test_preds_out).sum(axis=1)) # first argument is max value, row-wise"
   ]
  },
  {
   "cell_type": "code",
   "execution_count": 90,
   "id": "e3797091-3437-4c8d-8765-4d9b1645832f",
   "metadata": {},
   "outputs": [
    {
     "data": {
      "text/plain": [
       "[<matplotlib.lines.Line2D at 0x156d9c4f0>]"
      ]
     },
     "execution_count": 90,
     "metadata": {},
     "output_type": "execute_result"
    },
    {
     "data": {
      "image/png": "[encoded data removed]",
      "text/plain": [
       "<Figure size 432x288 with 1 Axes>"
      ]
     },
     "metadata": {
      "needs_background": "light"
     },
     "output_type": "display_data"
    }
   ],
   "source": [
    "plot(ret)"
   ]
  },
  {
   "cell_type": "code",
   "execution_count": 91,
   "id": "e7ef90e7-9639-428b-a3c2-9792b13a1e9a",
   "metadata": {},
   "outputs": [
    {
     "data": {
      "text/plain": [
       "<matplotlib.image.AxesImage at 0x156fc6cd0>"
      ]
     },
     "execution_count": 91,
     "metadata": {},
     "output_type": "execute_result"
    },
    {
     "data": {
      "image/png": "[encoded data removed]",
      "text/plain": [
       "<Figure size 432x288 with 1 Axes>"
      ]
     },
     "metadata": {
      "needs_background": "light"
     },
     "output_type": "display_data"
    }
   ],
   "source": [
    "imshow(X_test[np.argmax(ret)])"
   ]
  },
  {
   "cell_type": "code",
   "execution_count": 92,
   "id": "2ad042aa-06cd-4980-b290-47d7d8f9e3b3",
   "metadata": {},
   "outputs": [],
   "source": [
    "# Grid"
   ]
  },
  {
   "cell_type": "code",
   "execution_count": 93,
   "id": "c24598b0-0013-482e-a9f9-0c2972bdc2e8",
   "metadata": {},
   "outputs": [
    {
     "data": {
      "text/plain": [
       "<matplotlib.image.AxesImage at 0x15698ba00>"
      ]
     },
     "execution_count": 93,
     "metadata": {},
     "output_type": "execute_result"
    },
    {
     "data": {
      "image/png": "[encoded data removed]",
      "text/plain": [
       "<Figure size 576x576 with 1 Axes>"
      ]
     },
     "metadata": {
      "needs_background": "light"
     },
     "output_type": "display_data"
    }
   ],
   "source": [
    "G=4\n",
    "grid=sorted(list(zip(ret,range(ret.shape[0]))),reverse=True)[0:G**2]\n",
    "X_bad=X_test[[x[1] for x in grid]]\n",
    "figsize(8,8)\n",
    "imshow(np.concatenate(X_bad.reshape((G,28*G,28)),axis=1))"
   ]
  },
  {
   "cell_type": "code",
   "execution_count": null,
   "id": "acf49e92-78ad-47f0-af67-4329c30e02af",
   "metadata": {},
   "outputs": [],
   "source": []
  },
  {
   "cell_type": "code",
   "execution_count": null,
   "id": "33b55d08-ddac-4c99-a2cd-cd0c2d7bde15",
   "metadata": {},
   "outputs": [],
   "source": []
  },
  {
   "cell_type": "code",
   "execution_count": null,
   "id": "64990e52-687b-4c36-8abc-cddb4d064d8a",
   "metadata": {},
   "outputs": [],
   "source": []
  }
 ],
 "metadata": {
  "kernelspec": {
   "display_name": "Python 3 (ipykernel)",
   "language": "python",
   "name": "python3"
  },
  "language_info": {
   "codemirror_mode": {
    "name": "ipython",
    "version": 3
   },
   "file_extension": ".py",
   "mimetype": "text/x-python",
   "name": "python",
   "nbconvert_exporter": "python",
   "pygments_lexer": "ipython3",
   "version": "3.9.14"
  }
 },
 "nbformat": 4,
 "nbformat_minor": 5
}
