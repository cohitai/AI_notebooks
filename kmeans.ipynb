{
 "cells": [
  {
   "cell_type": "code",
   "execution_count": 1,
   "id": "73178d31",
   "metadata": {},
   "outputs": [],
   "source": [
    "import numpy as np\n",
    "from matplotlib import pyplot as plt  "
   ]
  },
  {
   "cell_type": "code",
   "execution_count": 9,
   "id": "8c8f2f22",
   "metadata": {},
   "outputs": [],
   "source": [
    "#intepreter = pyenv sift"
   ]
  },
  {
   "cell_type": "code",
   "execution_count": 10,
   "id": "36d5e211",
   "metadata": {},
   "outputs": [],
   "source": [
    "#Kmeans with numpy"
   ]
  },
  {
   "cell_type": "code",
   "execution_count": 11,
   "id": "f2c9987f",
   "metadata": {},
   "outputs": [
    {
     "name": "stdout",
     "output_type": "stream",
     "text": [
      "90 10\n"
     ]
    }
   ],
   "source": [
    "#fake data\n",
    "np.random.seed(0)\n",
    "n,m=90,10\n",
    "df= np.vstack((np.random.normal(0,1,[n//3,m]),np.random.normal(-4,1,[n//3,m])-10,np.random.normal(4,1,[n//3,m])+10))\n",
    "n,m=df.shape\n",
    "print(n,m)"
   ]
  },
  {
   "cell_type": "code",
   "execution_count": 16,
   "id": "228a2075",
   "metadata": {},
   "outputs": [],
   "source": [
    "class KMeans():\n",
    "    def __init__(self,k,N):\n",
    "        self.k=k #number of clusters\n",
    "        self.N=N #iterations parameter.\n",
    "        \n",
    "    @classmethod\n",
    "    def set_param(cls,k,n):\n",
    "        return cls(k,n)\n",
    "          \n",
    "    def fit(self,df):\n",
    "        \n",
    "        #random init.\n",
    "        kmeans, A = self._random_init(df)\n",
    "        n,m = A.shape\n",
    "        \n",
    "        for _ in range(self.N):\n",
    "            kmeans, k_clusters = self._compute_clusters(kmeans, A)\n",
    "            \n",
    "        return kmeans,k_clusters,A\n",
    "    \n",
    "    def _random_init(self,df):\n",
    "        \n",
    "        #random initiation\n",
    "        n,m = df.shape\n",
    "        assert self.k <= n\n",
    "        A = df.copy()\n",
    "        np.random.shuffle(A)\n",
    "        kmeans = A[0:self.k]\n",
    "        return kmeans,A\n",
    "    \n",
    "    def _compute_clusters(self, kmeans, A):\n",
    "        \n",
    "        n,m = A.shape\n",
    "        ## clusters generation\n",
    "        dists_arr = [np.linalg.norm(row1-row2) for row1 in A for row2 in kmeans] #array of distances n,k\n",
    "        dists_arr = np.asarray(dists_arr).reshape(n, self.k)\n",
    "        dists = np.argmin(dists_arr, axis=1)\n",
    "        #print(dists)\n",
    "        ## create clusters\n",
    "        k_clusters = [[] for _ in range(self.k)]\n",
    "        for i,j in enumerate(dists):\n",
    "            k_clusters[j].append(i)\n",
    "        \n",
    "        ## compute kmeans\n",
    "        for i, cluster in enumerate(k_clusters):\n",
    "            kmeans[i] = A[cluster, :].mean(axis=0)\n",
    "        return kmeans, k_clusters\n",
    "    "
   ]
  },
  {
   "cell_type": "code",
   "execution_count": 14,
   "id": "f1b1ad87",
   "metadata": {},
   "outputs": [
    {
     "data": {
      "text/plain": [
       "<matplotlib.collections.PathCollection at 0x127458580>"
      ]
     },
     "execution_count": 14,
     "metadata": {},
     "output_type": "execute_result"
    },
    {
     "data": {
      "image/png": "[encoded data removed]",
      "text/plain": [
       "<Figure size 640x480 with 1 Axes>"
      ]
     },
     "metadata": {},
     "output_type": "display_data"
    }
   ],
   "source": [
    "kmeans, k_clusters,A=KMeans(3,50).fit(df)\n",
    "\n",
    "for i,cluster in enumerate(k_clusters):\n",
    "    plt.scatter(A[cluster][:,0],A[cluster][:,1])\n",
    "\n",
    "\n",
    "plt.scatter(kmeans[:,0],kmeans[:,1],c=\"r\",marker=\"*\")"
   ]
  },
  {
   "cell_type": "code",
   "execution_count": null,
   "id": "234a5c09",
   "metadata": {},
   "outputs": [],
   "source": []
  }
 ],
 "metadata": {
  "kernelspec": {
   "display_name": "Python 3 (ipykernel)",
   "language": "python",
   "name": "python3"
  },
  "language_info": {
   "codemirror_mode": {
    "name": "ipython",
    "version": 3
   },
   "file_extension": ".py",
   "mimetype": "text/x-python",
   "name": "python",
   "nbconvert_exporter": "python",
   "pygments_lexer": "ipython3",
   "version": "3.9.13"
  }
 },
 "nbformat": 4,
 "nbformat_minor": 5
}
