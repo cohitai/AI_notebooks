{
 "cells": [
  {
   "cell_type": "code",
   "execution_count": 17,
   "id": "e7cebfb0",
   "metadata": {},
   "outputs": [],
   "source": [
    "import os\n",
    "from copy import copy\n",
    "import numpy as np\n",
    "import matplotlib.pyplot as plt\n",
    "from numpy.random import default_rng\n",
    "rng = default_rng()"
   ]
  },
  {
   "cell_type": "code",
   "execution_count": 18,
   "id": "ac8d1a96",
   "metadata": {},
   "outputs": [
    {
     "data": {
      "text/plain": [
       "'/Users/itaicohen/siemese_networks'"
      ]
     },
     "execution_count": 18,
     "metadata": {},
     "output_type": "execute_result"
    }
   ],
   "source": [
    "os.getcwd()"
   ]
  },
  {
   "cell_type": "markdown",
   "id": "21523c1d",
   "metadata": {},
   "source": [
    "#PARAMS"
   ]
  },
  {
   "cell_type": "code",
   "execution_count": 19,
   "id": "bedc722c",
   "metadata": {},
   "outputs": [],
   "source": [
    "MAX_ITER=100\n",
    "MIN_PTS=10\n",
    "THRESHOLD=0.05\n",
    "NUM_DATA_PTS=10"
   ]
  },
  {
   "cell_type": "code",
   "execution_count": 62,
   "id": "ef2e9924",
   "metadata": {},
   "outputs": [],
   "source": [
    "class RANSAC:\n",
    "    def __init__(self, n=MIN_PTS, k=MAX_ITER, t=THRESHOLD, d=NUM_DATA_PTS, model=None, loss=None, metric=None):\n",
    "        self.n = n              # `n`: Minimum number of data points to estimate parameters\n",
    "        self.k = k              # `k`: Maximum iterations allowed\n",
    "        self.t = t              # `t`: Threshold value to determine if points are fit well\n",
    "        self.d = d              # `d`: Number of close data points required to assert model fits well\n",
    "        self.model = model      # `model`: class implementing `fit` and `predict`\n",
    "        self.loss = loss        # `loss`: function of `y_true` and `y_pred` that returns a vector\n",
    "        self.metric = metric    # `metric`: function of `y_true` and `y_pred` and returns a float\n",
    "        self.best_fit = None\n",
    "        self.best_error = np.inf\n",
    "\n",
    "    def fit(self, X, y):\n",
    "        \n",
    "        #log/debug parameter i \n",
    "        i=0\n",
    "        ivals=[]\n",
    "        evals=[]\n",
    "        \n",
    "        \n",
    "        for _ in range(self.k):\n",
    "            \n",
    "            #random permutation of the data.\n",
    "            ids = rng.permutation(X.shape[0]) \n",
    "            maybe_inliers = ids[: self.n]\n",
    "            \n",
    "            # fit a model to the data (Linear Regression).\n",
    "            maybe_model = copy(self.model).fit(X[maybe_inliers], y[maybe_inliers])\n",
    "            \n",
    "            #returns boolean array\n",
    "            thresholded = (\n",
    "                self.loss(y[ids][self.n :], maybe_model.predict(X[ids][self.n :]))\n",
    "                < self.t\n",
    "            ) \n",
    "\n",
    "            inlier_ids = ids[self.n :][np.flatnonzero(thresholded).flatten()]\n",
    "            \n",
    "            #stopping criteria. \n",
    "            if inlier_ids.size > self.d: \n",
    "                inlier_points = np.hstack([maybe_inliers, inlier_ids])\n",
    "                better_model = copy(self.model).fit(X[inlier_points], y[inlier_points])\n",
    "\n",
    "                this_error = self.metric(\n",
    "                    y[inlier_points], better_model.predict(X[inlier_points])\n",
    "                )\n",
    "\n",
    "                if this_error < self.best_error:\n",
    "                    self.best_error = this_error\n",
    "                    self.best_fit = better_model\n",
    "                    \n",
    "                    #debug\n",
    "                    print(i,self.best_error)\n",
    "                    ivals.append(i)\n",
    "                    evals.append(self.best_error)\n",
    "                    \n",
    "            #debug\n",
    "            i+=1\n",
    "\n",
    "        return ivals,evals\n",
    "\n",
    "    def predict(self, X):\n",
    "        return self.best_fit.predict(X)\n",
    "\n",
    "\n",
    "def square_error_loss(y_true, y_pred):\n",
    "    return (y_true - y_pred) ** 2\n",
    "\n",
    "def mean_square_error(y_true, y_pred):\n",
    "    return np.sum(square_error_loss(y_true, y_pred)) / y_true.shape[0]\n",
    "\n",
    "# linear model. \n",
    "class LinearRegressor:\n",
    "    def __init__(self):\n",
    "        self.params = None\n",
    "\n",
    "    def fit(self, X: np.ndarray, y: np.ndarray):\n",
    "        r, _ = X.shape\n",
    "        X = np.hstack([np.ones((r, 1)), X])\n",
    "        self.params = np.linalg.inv(X.T @ X) @ X.T @ y\n",
    "        return self\n",
    "\n",
    "    def predict(self, X: np.ndarray):\n",
    "        r, _ = X.shape\n",
    "        X = np.hstack([np.ones((r, 1)), X])\n",
    "        return X @ self.params\n",
    "\n"
   ]
  },
  {
   "cell_type": "code",
   "execution_count": 66,
   "id": "5fbeb612",
   "metadata": {},
   "outputs": [
    {
     "name": "stdout",
     "output_type": "stream",
     "text": [
      "0 0.04735782970608452\n",
      "3 0.02674142410552549\n",
      "14 0.02385756867671798\n",
      "18 0.012513190034179368\n",
      "84 0.0057639095812965615\n"
     ]
    }
   ],
   "source": [
    "#ToDo data generator with customed shape. \n",
    "regressor = RANSAC(model=LinearRegressor(), loss=square_error_loss, metric=mean_square_error)\n",
    "X = np.array([-0.848,-0.800,-0.704,-0.632,-0.488,-0.472,-0.368,-0.336,-0.280,-0.200,-0.00800,-0.0840,0.0240,0.100,0.124,0.148,0.232,0.236,0.324,0.356,0.368,0.440,0.512,0.548,0.660,0.640,0.712,0.752,0.776,0.880,0.920,0.944,-0.108,-0.168,-0.720,-0.784,-0.224,-0.604,-0.740,-0.0440,0.388,-0.0200,0.752,0.416,-0.0800,-0.348,0.988,0.776,0.680,0.880,-0.816,-0.424,-0.932,0.272,-0.556,-0.568,-0.600,-0.716,-0.796,-0.880,-0.972,-0.916,0.816,0.892,0.956,0.980,0.988,0.992,0.00400]).reshape(-1,1)\n",
    "y = np.array([-0.917,-0.833,-0.801,-0.665,-0.605,-0.545,-0.509,-0.433,-0.397,-0.281,-0.205,-0.169,-0.0531,-0.0651,0.0349,0.0829,0.0589,0.175,0.179,0.191,0.259,0.287,0.359,0.395,0.483,0.539,0.543,0.603,0.667,0.679,0.751,0.803,-0.265,-0.341,0.111,-0.113,0.547,0.791,0.551,0.347,0.975,0.943,-0.249,-0.769,-0.625,-0.861,-0.749,-0.945,-0.493,0.163,-0.469,0.0669,0.891,0.623,-0.609,-0.677,-0.721,-0.745,-0.885,-0.897,-0.969,-0.949,0.707,0.783,0.859,0.979,0.811,0.891,-0.137]).reshape(-1,1)\n",
    "ivals,evals=regressor.fit(X, y)"
   ]
  },
  {
   "cell_type": "code",
   "execution_count": 75,
   "id": "e83bdb8b",
   "metadata": {},
   "outputs": [
    {
     "data": {
      "text/plain": [
       "Text(0.5, 1.0, 'errors vs iterations')"
      ]
     },
     "execution_count": 75,
     "metadata": {},
     "output_type": "execute_result"
    },
    {
     "data": {
      "image/png": "[encoded data removed]",
      "text/plain": [
       "<Figure size 432x288 with 1 Axes>"
      ]
     },
     "metadata": {},
     "output_type": "display_data"
    }
   ],
   "source": [
    "plt.plot(ivals,evals, c=\"peru\")\n",
    "plt.title(\"errors vs iterations\",c=\"b\")"
   ]
  },
  {
   "cell_type": "code",
   "execution_count": 76,
   "id": "66a4077a",
   "metadata": {},
   "outputs": [
    {
     "data": {
      "image/png": "[encoded data removed]",
      "text/plain": [
       "<Figure size 432x288 with 1 Axes>"
      ]
     },
     "metadata": {},
     "output_type": "display_data"
    }
   ],
   "source": [
    "plt.style.use(\"seaborn-darkgrid\")\n",
    "fig, ax = plt.subplots(1, 1)\n",
    "ax.set_box_aspect(1)\n",
    "\n",
    "plt.scatter(X, y)\n",
    "\n",
    "line = np.linspace(-1, 1, num=100).reshape(-1, 1)\n",
    "plt.plot(line, regressor.predict(line), c=\"peru\")\n",
    "plt.show()"
   ]
  },
  {
   "cell_type": "markdown",
   "id": "3ad3e6b0",
   "metadata": {},
   "source": [
    "# More on parameters"
   ]
  },
  {
   "cell_type": "markdown",
   "id": "32ec6295",
   "metadata": {},
   "source": [
    "Let omega be the probability of an inlier in the data:\n",
    "$$\n",
    "\\omega=P(\\text{inlier})=\\frac{\\#\\text{inliers}}{|\\text{data}|}\n",
    "$$\n",
    "\n",
    "\n",
    "\n"
   ]
  },
  {
   "cell_type": "markdown",
   "id": "e636d06b",
   "metadata": {},
   "source": [
    "Let $1-p$ be the probability of never picking $n$ inliers by $k$ iterations\n",
    "$$\n",
    "1-p=(1-\\omega^n)^k\n",
    "$$\n",
    "\n",
    "$$\n",
    "k=\\frac{\\log(1-p)}{\\log(1-w^n)}\n",
    "$$\n",
    "\n"
   ]
  },
  {
   "cell_type": "code",
   "execution_count": null,
   "id": "a97ec59a",
   "metadata": {},
   "outputs": [],
   "source": []
  },
  {
   "cell_type": "code",
   "execution_count": 79,
   "id": "7f58b3d6",
   "metadata": {},
   "outputs": [
    {
     "name": "stdout",
     "output_type": "stream",
     "text": [
      "/Users/itaicohen/siemese_networks\r\n"
     ]
    }
   ],
   "source": []
  },
  {
   "cell_type": "code",
   "execution_count": null,
   "id": "6377ceca",
   "metadata": {},
   "outputs": [],
   "source": []
  }
 ],
 "metadata": {
  "kernelspec": {
   "display_name": "Python 3 (ipykernel)",
   "language": "python",
   "name": "python3"
  },
  "language_info": {
   "codemirror_mode": {
    "name": "ipython",
    "version": 3
   },
   "file_extension": ".py",
   "mimetype": "text/x-python",
   "name": "python",
   "nbconvert_exporter": "python",
   "pygments_lexer": "ipython3",
   "version": "3.9.14"
  }
 },
 "nbformat": 4,
 "nbformat_minor": 5
}
